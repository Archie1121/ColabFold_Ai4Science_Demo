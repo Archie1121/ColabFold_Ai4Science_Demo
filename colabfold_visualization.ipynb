{
 "cells": [
  {
   "cell_type": "code",
   "execution_count": 1,
   "metadata": {},
   "outputs": [
    {
     "data": {
      "application/vnd.jupyter.widget-view+json": {
       "model_id": "b6392f61e5574ab0bc4973e8715cdafb",
       "version_major": 2,
       "version_minor": 0
      },
      "text/plain": []
     },
     "metadata": {},
     "output_type": "display_data"
    },
    {
     "name": "stdout",
     "output_type": "stream",
     "text": [
      "显示 PDB: query1_unrelaxed_rank_001_alphafold2_ptm_model_1_seed_000\n"
     ]
    },
    {
     "data": {
      "application/vnd.jupyter.widget-view+json": {
       "model_id": "ef67c9943e9d49219f50bb63ee8f7b21",
       "version_major": 2,
       "version_minor": 0
      },
      "text/plain": [
       "NGLWidget()"
      ]
     },
     "metadata": {},
     "output_type": "display_data"
    },
    {
     "name": "stdout",
     "output_type": "stream",
     "text": [
      "保存 PDB 图片: /home/u2024170925/Ai4Science-Demo/ColabFold_demo/results_single/output/visualization/query1_unrelaxed_rank_001_alphafold2_ptm_model_1_seed_000_pdb.png\n"
     ]
    }
   ],
   "source": [
    "# ------------------------------\n",
    "# 可视化 ColabFold 预测结果\n",
    "# ------------------------------\n",
    "import os\n",
    "import glob\n",
    "import json\n",
    "import numpy as np\n",
    "import matplotlib.pyplot as plt\n",
    "import seaborn as sns\n",
    "import nglview as nv\n",
    "\n",
    "# ------------------------------\n",
    "# 路径设置\n",
    "# ------------------------------\n",
    "results_dir = \"/home/u2024170925/Ai4Science-Demo/ColabFold_demo/results_single/output\"  # 预测结果文件夹\n",
    "output_dir = os.path.join(results_dir, \"visualization\")\n",
    "os.makedirs(output_dir, exist_ok=True)\n",
    "\n",
    "# 找到所有 PDB 和 PAE 文件\n",
    "pdb_files = glob.glob(os.path.join(results_dir, \"*.pdb\"))\n",
    "pae_files = glob.glob(os.path.join(results_dir, \"*_predicted_aligned_error_v1.json\"))\n",
    "\n",
    "# ------------------------------\n",
    "# 循环处理每个蛋白\n",
    "# ------------------------------\n",
    "for pdb_file in pdb_files:\n",
    "    base_name = os.path.splitext(os.path.basename(pdb_file))[0]\n",
    "    \n",
    "    # 对应的 PAE 文件\n",
    "    pae_file = next((f for f in pae_files if base_name in f), None)\n",
    "    \n",
    "    # ---------- 1. PDB 可视化 ----------\n",
    "    print(f\"显示 PDB: {base_name}\")\n",
    "    view = nv.show_file(pdb_file)\n",
    "    view.add_cartoon(color_scheme='residueindex')\n",
    "    display(view)  # 在 Notebook 中显示交互式 3D 结构\n",
    "\n",
    "    # 保存静态 PNG\n",
    "    pdb_png_path = os.path.join(output_dir, f\"{base_name}_pdb.png\")\n",
    "    view.download_image(pdb_png_path, factor=2)\n",
    "    print(\"保存 PDB 图片:\", pdb_png_path)\n",
    "    \n",
    "    # ---------- 2. PAE 可视化 ----------\n",
    "    if pae_file:\n",
    "        with open(pae_file, \"r\") as f:\n",
    "            data = json.load(f)\n",
    "        pae = np.array(data[\"predicted_aligned_error\"])\n",
    "        \n",
    "        print(f\"PAE shape: {pae.shape}\")\n",
    "        plt.figure(figsize=(6,5))\n",
    "        sns.heatmap(pae, cmap=\"viridis\")\n",
    "        plt.title(f\"{base_name} PAE\")\n",
    "        plt.xlabel(\"Residue\")\n",
    "        plt.ylabel(\"Residue\")\n",
    "        plt.tight_layout()\n",
    "        \n",
    "        pae_png_path = os.path.join(output_dir, f\"{base_name}_pae.png\")\n",
    "        plt.savefig(pae_png_path, dpi=300)\n",
    "        plt.show()  # Notebook 显示\n",
    "        plt.close()\n",
    "        print(\"保存 PAE 图片:\", pae_png_path)\n"
   ]
  }
 ],
 "metadata": {
  "kernelspec": {
   "display_name": "colabfold",
   "language": "python",
   "name": "python3"
  },
  "language_info": {
   "codemirror_mode": {
    "name": "ipython",
    "version": 3
   },
   "file_extension": ".py",
   "mimetype": "text/x-python",
   "name": "python",
   "nbconvert_exporter": "python",
   "pygments_lexer": "ipython3",
   "version": "3.9.24"
  }
 },
 "nbformat": 4,
 "nbformat_minor": 2
}
